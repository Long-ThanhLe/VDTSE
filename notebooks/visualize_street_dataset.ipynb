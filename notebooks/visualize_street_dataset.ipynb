{
 "cells": [
  {
   "cell_type": "code",
   "execution_count": null,
   "metadata": {},
   "outputs": [],
   "source": [
    "%load_ext autoreload\n",
    "%autoreload 2\n",
    "\n",
    "import numpy as np\n",
    "import matplotlib.pyplot as plt\n",
    "import os, cv2, mmcv, torch, cvut\n",
    "\n",
    "from mmdet.datasets import build_dataloader, build_dataset\n",
    "from operator import itemgetter \n",
    "import tqdm\n"
   ]
  },
  {
   "cell_type": "code",
   "execution_count": null,
   "metadata": {
    "tags": []
   },
   "outputs": [],
   "source": [
    "!ln -s /home/member/Workspace/tank/TS_release/dataset/data data\n",
    "# Build dataset\n",
    "config_file = \"../configs/street/atss_r50_fpn_1x_street_visualize.py\"\n",
    "cfg = mmcv.Config.fromfile(config_file)\n",
    "dataset = build_dataset(cfg.data.train)\n",
    "\n",
    "print(\"dataset size:\", len(dataset))\n",
    "classnames = ('background',) + (dataset.CLASSES,)\n",
    "\n",
    "_MEAN = np.array(cfg.img_norm_cfg.mean)\n",
    "_STD = np.array(cfg.img_norm_cfg.std)\n",
    "print('dataset keys: ', dataset.__dict__.keys())\n",
    "print('dataset coco: ', dataset.coco.__dict__.keys())"
   ]
  },
  {
   "cell_type": "code",
   "execution_count": null,
   "metadata": {
    "tags": []
   },
   "outputs": [],
   "source": [
    "# Get a sample\n",
    "idx = 2\n",
    "sample = dataset.__getitem__(idx)\n",
    "print(sample.keys())\n",
    "\n",
    "img_metas = sample['img_metas'].data\n",
    "print(img_metas)\n",
    "print(sample['gt_labels'].data.tolist())\n",
    "labels = itemgetter(*sample['gt_labels'].data)(dataset.CLASSES)\n",
    "print(labels)"
   ]
  },
  {
   "cell_type": "code",
   "execution_count": null,
   "metadata": {
    "tags": []
   },
   "outputs": [],
   "source": [
    "# # draw single image\n",
    "# # Get image\n",
    "# # visual lize img by name\n",
    "# name = 'IMG_1360.JPG'\n",
    "# # for key, value in dataset.coco.imgs.items():\n",
    "# #     if value['file_name'] == name:\n",
    "# #         img_id = value['id']\n",
    "# #         print('value is: ',value)\n",
    "# #         break\n",
    "# # print(img_id)\n",
    "# # sample = dataset.__getitem__(img_id)\n",
    "\n",
    "# for i, (key, value) in enumerate(dataset.coco.imgs.items()):\n",
    "#     if value['file_name'] == name:\n",
    "#         img_id = i\n",
    "#         break\n",
    "# print(img_id)\n",
    "# sample = dataset.__getitem__(img_id)\n",
    "# Get a sample\n",
    "idx = 2\n",
    "sample = dataset.__getitem__(idx)\n",
    "imgage = sample['img'].data\n",
    "image = imgage.cpu().numpy().transpose((1,2,0))\n",
    "image = np.clip(image * _STD + _MEAN, 0, 255).astype('uint8')\n",
    "print(image.shape)\n",
    "# image = cv2.rotate(image, cv2.ROTATE_180)\n",
    "# Draw bboxes\n",
    "gt_bboxes = sample['gt_bboxes'].data.numpy()\n",
    "labels_name = itemgetter(*sample['gt_labels'].data)(dataset.CLASSES)\n",
    "image = cvut.draw_bboxes(image, gt_bboxes, labels=sample['gt_labels'].data, classnames=dataset.CLASSES)\n",
    "\n",
    "print(\"Number of bboxes: {}\".format(len(gt_bboxes)))\n",
    "\n",
    "# Plot\n",
    "plt.figure(figsize=(10,10))\n",
    "plt.imshow(image)\n",
    "plt.show()"
   ]
  },
  {
   "cell_type": "code",
   "execution_count": null,
   "metadata": {},
   "outputs": [],
   "source": [
    "# draw whole dataset\n",
    "for idx in range(len(dataset)):\n",
    "    sample = dataset.__getitem__(idx)\n",
    "    # Get image\n",
    "    img = sample['img'].data\n",
    "    image = img.cpu().numpy().transpose((1,2,0))\n",
    "    image = np.clip(image * _STD + _MEAN, 0, 255).astype('uint8')\n",
    "    \n",
    "    # Draw bboxes\n",
    "    gt_bboxes = sample['gt_bboxes'].data.numpy()\n",
    "#     image = cvut.draw_bboxes(image, gt_bboxes)\n",
    "    labels_name = itemgetter(*sample['gt_labels'].data)(dataset.CLASSES)\n",
    "    print(sample['img_metas'].data['filename'])\n",
    "    image = cvut.draw_bboxes(image, gt_bboxes, labels=sample['gt_labels'].data, classnames=dataset.CLASSES)\n",
    "    print(\"Number of bboxes: {}\".format(len(gt_bboxes)))\n",
    "\n",
    "    # # Draw mask\n",
    "    # gt_semsegs = sample['gt_semsegs'].data.numpy()\n",
    "    # gt_semsegs = cv2.resize(gt_semsegs[0], image.shape[:2][::-1])\n",
    "    # image = cvut.draw_masks_overlay(image, [gt_semsegs])\n",
    "\n",
    "    # Plot\n",
    "    plt.figure(figsize=(10,10))\n",
    "    plt.imshow(image)\n",
    "    plt.show()"
   ]
  },
  {
   "cell_type": "code",
   "execution_count": null,
   "metadata": {},
   "outputs": [],
   "source": [
    "# statistics based on dataset\n",
    "num_classes = np.zeros(5, dtype=np.int)\n",
    "for idx in tqdm.tqdm(range(len(dataset))):\n",
    "    sample = dataset.__getitem__(idx)\n",
    "    labels = sample['gt_labels'].data\n",
    "    num_classes[labels] += 1\n",
    "print(num_classes)"
   ]
  },
  {
   "cell_type": "code",
   "execution_count": null,
   "metadata": {},
   "outputs": [],
   "source": [
    "# statistic based on json\n",
    "import json\n",
    "import numpy as np\n",
    "\n",
    "train_file = '/home/member/Workspace/tank/TS/data/annotations/train.json'\n",
    "test_file = '/home/member/Workspace/tank/TS/data/annotations/test.json'\n",
    "all_ = '/home/member/Workspace/tank/TS/data/annotations/thesis_train.json'\n",
    "\n",
    "with open(train_file) as f:\n",
    "    train_anno = json.load(f)\n",
    "with open(test_file) as f:\n",
    "    test_anno = json.load(f)\n",
    "\n",
    "with open(all_) as f:\n",
    "    all_anno = json.load(f)\n",
    "\n",
    "train_num_elements = np.zeros(5, dtype=np.int)\n",
    "test_num_elements = np.zeros(5, dtype=np.int)\n",
    "all_num_elements = np.zeros(5, dtype=np.int)\n",
    "\n",
    "for an in train_anno['annotations']:\n",
    "    train_num_elements[an['category_id']-1] += 1\n",
    "    \n",
    "for an in test_anno['annotations']:\n",
    "    test_num_elements[an['category_id']-1] += 1\n",
    "\n",
    "for an in all_anno['annotations']:\n",
    "    all_num_elements[an['category_id']-1] += 1\n",
    "\n",
    "print('train: ', train_num_elements)\n",
    "print('test : ', test_num_elements)\n",
    "print('all  : ', all_num_elements)"
   ]
  }
 ],
 "metadata": {
  "kernelspec": {
   "display_name": "Python 3",
   "language": "python",
   "name": "python3"
  },
  "language_info": {
   "codemirror_mode": {
    "name": "ipython",
    "version": 3
   },
   "file_extension": ".py",
   "mimetype": "text/x-python",
   "name": "python",
   "nbconvert_exporter": "python",
   "pygments_lexer": "ipython3",
   "version": "3.7.9"
  }
 },
 "nbformat": 4,
 "nbformat_minor": 4
}
